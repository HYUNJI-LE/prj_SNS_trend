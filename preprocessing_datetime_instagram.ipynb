{
 "cells": [
  {
   "cell_type": "code",
   "execution_count": 2,
   "metadata": {},
   "outputs": [],
   "source": [
    "import pandas as pd\n",
    "import numpy as np\n",
    "import datetime\n"
   ]
  },
  {
   "cell_type": "code",
   "execution_count": 4,
   "metadata": {},
   "outputs": [
    {
     "data": {
      "text/html": [
       "<div>\n",
       "<style scoped>\n",
       "    .dataframe tbody tr th:only-of-type {\n",
       "        vertical-align: middle;\n",
       "    }\n",
       "\n",
       "    .dataframe tbody tr th {\n",
       "        vertical-align: top;\n",
       "    }\n",
       "\n",
       "    .dataframe thead th {\n",
       "        text-align: right;\n",
       "    }\n",
       "</style>\n",
       "<table border=\"1\" class=\"dataframe\">\n",
       "  <thead>\n",
       "    <tr style=\"text-align: right;\">\n",
       "      <th></th>\n",
       "      <th>date</th>\n",
       "      <th>title</th>\n",
       "    </tr>\n",
       "  </thead>\n",
       "  <tbody>\n",
       "    <tr>\n",
       "      <th>0</th>\n",
       "      <td>2020년 10월 12일</td>\n",
       "      <td>광고공구예고  안녕하세요 뚜뚜네간식 뚜맘입니다  오래 기다려주신 오크리스피 최저가공...</td>\n",
       "    </tr>\n",
       "    <tr>\n",
       "      <th>1</th>\n",
       "      <td>2020년 9월 24일</td>\n",
       "      <td>오백예순두 번째 호기심까까  노브랜드버거 인절미치즈볼3알2900원   리뷰요청지에서...</td>\n",
       "    </tr>\n",
       "    <tr>\n",
       "      <th>2</th>\n",
       "      <td>2020년 10월 13일</td>\n",
       "      <td>교촌치킨 사이드 신메뉴 3종   치킨만 먹기 허전할 때 추가해서 먹으면 꿀맛이겠됴 ...</td>\n",
       "    </tr>\n",
       "    <tr>\n",
       "      <th>3</th>\n",
       "      <td>2020년 10월 3일</td>\n",
       "      <td>BHC 핫 뿌링클 콤보    asmr asmreating asmrfood mukba...</td>\n",
       "    </tr>\n",
       "    <tr>\n",
       "      <th>4</th>\n",
       "      <td>2020년 10월 8일</td>\n",
       "      <td>맵소사 여러분 이렇게 예쁜 케이크 보셨나요 자기들도 사느라 바쁠텐데 참 우리 딸이...</td>\n",
       "    </tr>\n",
       "    <tr>\n",
       "      <th>...</th>\n",
       "      <td>...</td>\n",
       "      <td>...</td>\n",
       "    </tr>\n",
       "    <tr>\n",
       "      <th>22095</th>\n",
       "      <td>2020년 7월 23일</td>\n",
       "      <td>party  이것은 어느 하루의 점심 우리 몸뚱이에 플렉스 해버렸네  여름맞이 비상</td>\n",
       "    </tr>\n",
       "    <tr>\n",
       "      <th>22096</th>\n",
       "      <td>2020년 7월 23일</td>\n",
       "      <td>party  이것은 어느 하루의 점심 우리 몸뚱이에 플렉스 해버렸네  여름맞이 비상</td>\n",
       "    </tr>\n",
       "    <tr>\n",
       "      <th>22097</th>\n",
       "      <td>2020년 7월 23일</td>\n",
       "      <td>party  이것은 어느 하루의 점심 우리 몸뚱이에 플렉스 해버렸네  여름맞이 비상</td>\n",
       "    </tr>\n",
       "    <tr>\n",
       "      <th>22098</th>\n",
       "      <td>2020년 7월 23일</td>\n",
       "      <td>party  이것은 어느 하루의 점심 우리 몸뚱이에 플렉스 해버렸네  여름맞이 비상</td>\n",
       "    </tr>\n",
       "    <tr>\n",
       "      <th>22099</th>\n",
       "      <td>2020년 7월 23일</td>\n",
       "      <td>party  이것은 어느 하루의 점심 우리 몸뚱이에 플렉스 해버렸네  여름맞이 비상</td>\n",
       "    </tr>\n",
       "  </tbody>\n",
       "</table>\n",
       "<p>22100 rows × 2 columns</p>\n",
       "</div>"
      ],
      "text/plain": [
       "                date                                              title\n",
       "0      2020년 10월 12일  광고공구예고  안녕하세요 뚜뚜네간식 뚜맘입니다  오래 기다려주신 오크리스피 최저가공...\n",
       "1       2020년 9월 24일  오백예순두 번째 호기심까까  노브랜드버거 인절미치즈볼3알2900원   리뷰요청지에서...\n",
       "2      2020년 10월 13일  교촌치킨 사이드 신메뉴 3종   치킨만 먹기 허전할 때 추가해서 먹으면 꿀맛이겠됴 ...\n",
       "3       2020년 10월 3일  BHC 핫 뿌링클 콤보    asmr asmreating asmrfood mukba...\n",
       "4       2020년 10월 8일   맵소사 여러분 이렇게 예쁜 케이크 보셨나요 자기들도 사느라 바쁠텐데 참 우리 딸이...\n",
       "...              ...                                                ...\n",
       "22095   2020년 7월 23일     party  이것은 어느 하루의 점심 우리 몸뚱이에 플렉스 해버렸네  여름맞이 비상\n",
       "22096   2020년 7월 23일     party  이것은 어느 하루의 점심 우리 몸뚱이에 플렉스 해버렸네  여름맞이 비상\n",
       "22097   2020년 7월 23일     party  이것은 어느 하루의 점심 우리 몸뚱이에 플렉스 해버렸네  여름맞이 비상\n",
       "22098   2020년 7월 23일     party  이것은 어느 하루의 점심 우리 몸뚱이에 플렉스 해버렸네  여름맞이 비상\n",
       "22099   2020년 7월 23일     party  이것은 어느 하루의 점심 우리 몸뚱이에 플렉스 해버렸네  여름맞이 비상\n",
       "\n",
       "[22100 rows x 2 columns]"
      ]
     },
     "execution_count": 4,
     "metadata": {},
     "output_type": "execute_result"
    }
   ],
   "source": [
    "df = pd.read_csv('../prj_sns_trend_private/prj_sns_trend_crawling_instagram_22100.csv')\n",
    "df.drop([df.columns[0]],axis=1, inplace=True)\n",
    "df"
   ]
  },
  {
   "cell_type": "code",
   "execution_count": 10,
   "metadata": {},
   "outputs": [
    {
     "name": "stdout",
     "output_type": "stream",
     "text": [
      "8177\n",
      "                date                                              title\n",
      "0      2020년 10월 12일  광고공구예고  안녕하세요 뚜뚜네간식 뚜맘입니다  오래 기다려주신 오크리스피 최저가공...\n",
      "1       2020년 9월 24일  오백예순두 번째 호기심까까  노브랜드버거 인절미치즈볼3알2900원   리뷰요청지에서...\n",
      "2      2020년 10월 13일  교촌치킨 사이드 신메뉴 3종   치킨만 먹기 허전할 때 추가해서 먹으면 꿀맛이겠됴 ...\n",
      "3       2020년 10월 3일  BHC 핫 뿌링클 콤보    asmr asmreating asmrfood mukba...\n",
      "4       2020년 10월 8일   맵소사 여러분 이렇게 예쁜 케이크 보셨나요 자기들도 사느라 바쁠텐데 참 우리 딸이...\n",
      "...              ...                                                ...\n",
      "15099   2020년 7월 23일  장마 습하다 비내리는중    슈크림도넛 김천 김천혁신도시 구미 도너츠 간식 찹쌀 꽈...\n",
      "15100   2020년 7월 23일  파머스독 간식나왔습니다  오늘은 치즈볼이나왔습니다 딱딱하지않아서 냥이들도 맛있게먹을...\n",
      "15101   2020년 7월 23일            밥 하기 싫어 죽는 겸이언니찡  어째 치킨 보다 치즈볼 이 더 맛있다냥\n",
      "15102   2020년 7월 23일            노랑통닭 통닭 치즈볼 순살3종세트   사실 난 순살보단 뼈 치킨 좋아해\n",
      "15103   2020년 7월 23일     party  이것은 어느 하루의 점심 우리 몸뚱이에 플렉스 해버렸네  여름맞이 비상\n",
      "\n",
      "[13923 rows x 2 columns]\n"
     ]
    }
   ],
   "source": [
    "print(df.duplicated().sum())\n",
    "df = df.drop_duplicates()\n",
    "print(df)"
   ]
  },
  {
   "cell_type": "code",
   "execution_count": 11,
   "metadata": {},
   "outputs": [
    {
     "name": "stdout",
     "output_type": "stream",
     "text": [
      "                date                                              title\n",
      "0      2020년 10월 12일  광고공구예고  안녕하세요 뚜뚜네간식 뚜맘입니다  오래 기다려주신 오크리스피 최저가공...\n",
      "1       2020년 9월 24일  오백예순두 번째 호기심까까  노브랜드버거 인절미치즈볼3알2900원   리뷰요청지에서...\n",
      "2      2020년 10월 13일  교촌치킨 사이드 신메뉴 3종   치킨만 먹기 허전할 때 추가해서 먹으면 꿀맛이겠됴 ...\n",
      "3       2020년 10월 3일  BHC 핫 뿌링클 콤보    asmr asmreating asmrfood mukba...\n",
      "4       2020년 10월 8일   맵소사 여러분 이렇게 예쁜 케이크 보셨나요 자기들도 사느라 바쁠텐데 참 우리 딸이...\n",
      "...              ...                                                ...\n",
      "13895   2020년 7월 23일  장마 습하다 비내리는중    슈크림도넛 김천 김천혁신도시 구미 도너츠 간식 찹쌀 꽈...\n",
      "13896   2020년 7월 23일  파머스독 간식나왔습니다  오늘은 치즈볼이나왔습니다 딱딱하지않아서 냥이들도 맛있게먹을...\n",
      "13897   2020년 7월 23일            밥 하기 싫어 죽는 겸이언니찡  어째 치킨 보다 치즈볼 이 더 맛있다냥\n",
      "13898   2020년 7월 23일            노랑통닭 통닭 치즈볼 순살3종세트   사실 난 순살보단 뼈 치킨 좋아해\n",
      "13899   2020년 7월 23일     party  이것은 어느 하루의 점심 우리 몸뚱이에 플렉스 해버렸네  여름맞이 비상\n",
      "\n",
      "[13900 rows x 2 columns]\n"
     ]
    }
   ],
   "source": [
    "#NaN값 제거\n",
    "df.isnull().sum()\n",
    "df = df.dropna()\n",
    "df.reset_index(drop =True, inplace = True)\n",
    "\n",
    "print(df)\n"
   ]
  },
  {
   "cell_type": "code",
   "execution_count": 12,
   "metadata": {},
   "outputs": [
    {
     "data": {
      "text/plain": [
       "0        2020-10-12\n",
       "1         2020-9-24\n",
       "2        2020-10-13\n",
       "3         2020-10-3\n",
       "4         2020-10-8\n",
       "            ...    \n",
       "13895     2020-7-23\n",
       "13896     2020-7-23\n",
       "13897     2020-7-23\n",
       "13898     2020-7-23\n",
       "13899     2020-7-23\n",
       "Name: date, Length: 13900, dtype: object"
      ]
     },
     "execution_count": 12,
     "metadata": {},
     "output_type": "execute_result"
    }
   ],
   "source": [
    "for i in range(len(df)):\n",
    "    df['date'][i] = df['date'][i].replace('년 ', '-').replace('월 ', '-').replace('일', '')\n",
    "df['date']"
   ]
  },
  {
   "cell_type": "code",
   "execution_count": 13,
   "metadata": {},
   "outputs": [],
   "source": [
    "#datetime으로 변경\n",
    "df['date'] = pd.to_datetime(df['date'])"
   ]
  },
  {
   "cell_type": "code",
   "execution_count": 14,
   "metadata": {},
   "outputs": [
    {
     "name": "stderr",
     "output_type": "stream",
     "text": [
      "c:\\users\\07\\anaconda3\\envs\\machinelearning\\lib\\site-packages\\ipykernel_launcher.py:3: SettingWithCopyWarning: \n",
      "A value is trying to be set on a copy of a slice from a DataFrame\n",
      "\n",
      "See the caveats in the documentation: https://pandas.pydata.org/pandas-docs/stable/user_guide/indexing.html#returning-a-view-versus-a-copy\n",
      "  This is separate from the ipykernel package so we can avoid doing imports until\n",
      "c:\\users\\07\\anaconda3\\envs\\machinelearning\\lib\\site-packages\\pandas\\core\\indexing.py:670: SettingWithCopyWarning: \n",
      "A value is trying to be set on a copy of a slice from a DataFrame\n",
      "\n",
      "See the caveats in the documentation: https://pandas.pydata.org/pandas-docs/stable/user_guide/indexing.html#returning-a-view-versus-a-copy\n",
      "  iloc._setitem_with_indexer(indexer, value)\n"
     ]
    },
    {
     "data": {
      "text/plain": [
       "0        2020-10-12\n",
       "1        2020-09-24\n",
       "2        2020-10-13\n",
       "3        2020-10-03\n",
       "4        2020-10-08\n",
       "            ...    \n",
       "13895    2020-07-23\n",
       "13896    2020-07-23\n",
       "13897    2020-07-23\n",
       "13898    2020-07-23\n",
       "13899    2020-07-23\n",
       "Name: date, Length: 13900, dtype: object"
      ]
     },
     "execution_count": 14,
     "metadata": {},
     "output_type": "execute_result"
    }
   ],
   "source": [
    "#날짜 포맷 변경\n",
    "for i in range(len(df)):\n",
    "    df['date'][i] = df['date'][i].strftime('%Y-%m-%d')\n",
    "df['date']"
   ]
  },
  {
   "cell_type": "code",
   "execution_count": 15,
   "metadata": {},
   "outputs": [
    {
     "name": "stdout",
     "output_type": "stream",
     "text": [
      "0        True\n",
      "1        True\n",
      "2        True\n",
      "3        True\n",
      "4        True\n",
      "         ... \n",
      "13895    True\n",
      "13896    True\n",
      "13897    True\n",
      "13898    True\n",
      "13899    True\n",
      "Name: date, Length: 13900, dtype: bool\n"
     ]
    }
   ],
   "source": [
    "#올해가 아닌 데이터 제거\n",
    "\n",
    "df_from2020 = df['date'] >= '2020-01-01'\n",
    "print(df_from2020)\n",
    "df = df[df_from2020]\n"
   ]
  },
  {
   "cell_type": "code",
   "execution_count": 16,
   "metadata": {},
   "outputs": [],
   "source": [
    "df.to_csv('../prj_sns_trend_private/crawling_instagram.csv')"
   ]
  },
  {
   "cell_type": "code",
   "execution_count": null,
   "metadata": {},
   "outputs": [],
   "source": []
  }
 ],
 "metadata": {
  "kernelspec": {
   "display_name": "Python 3",
   "language": "python",
   "name": "python3"
  },
  "language_info": {
   "codemirror_mode": {
    "name": "ipython",
    "version": 3
   },
   "file_extension": ".py",
   "mimetype": "text/x-python",
   "name": "python",
   "nbconvert_exporter": "python",
   "pygments_lexer": "ipython3",
   "version": "3.7.7"
  }
 },
 "nbformat": 4,
 "nbformat_minor": 4
}
