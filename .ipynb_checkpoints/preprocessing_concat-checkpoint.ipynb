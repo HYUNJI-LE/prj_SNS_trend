{
 "cells": [
  {
   "cell_type": "code",
   "execution_count": 30,
   "metadata": {},
   "outputs": [],
   "source": [
    "import pandas as pd"
   ]
  },
  {
   "cell_type": "code",
   "execution_count": 31,
   "metadata": {},
   "outputs": [],
   "source": [
    "df1 = pd.read_csv('../prj_sns_trend_private/crawling_naver_cafe.csv')"
   ]
  },
  {
   "cell_type": "code",
   "execution_count": null,
   "metadata": {},
   "outputs": [],
   "source": [
    "df_list = ['crawling_naver_blog','crawling_instagram',prj_sns_trend_crawling_youtube,facebook치즈볼_clean]"
   ]
  },
  {
   "cell_type": "code",
   "execution_count": 32,
   "metadata": {},
   "outputs": [
    {
     "name": "stdout",
     "output_type": "stream",
     "text": [
      "<class 'pandas.core.frame.DataFrame'>\n",
      "Int64Index: 1000 entries, 0 to 999\n",
      "Data columns (total 1 columns):\n",
      " #   Column   Non-Null Count  Dtype \n",
      "---  ------   --------------  ----- \n",
      " 0   content  1000 non-null   object\n",
      "dtypes: object(1)\n",
      "memory usage: 15.6+ KB\n",
      "None\n",
      "                                             content\n",
      "0  압도적인 강화도 맛집 리스트 지난번 가족들과 나들이를 떠났다가 미리 알아둔 강화도 ...\n",
      "1  후회 없는 제주 연동 맛집 연동 맛집을 다녀왔어요. 가격대에 비해서 퀄리티가 상당했...\n",
      "2  제주도 애월 맛집 다다의 작은 공간 #노키즈존 제주도 애월 맛집 다다의 작은 공간 ...\n",
      "3  취향 저격한 산방산 맛집 산방산 맛집도 다녀왔어요. 간만에 제대로 힐링을 하면서 퀄...\n",
      "4  감탄했던 일산 맛집 며칠 전 친구들과 점심 약속이 있어 가성비 좋다는 일산 맛집을 ...\n"
     ]
    }
   ],
   "source": [
    "for a in range(len(month_start) -1):\n",
    "    b = a+1\n",
    "    df2 = pd.read_csv('../prj_sns_trend_private/crawling_naver_cafe_{}.csv'.format(month_start[b]))\n",
    "    df1 = pd.concat([df1,df2], ignore_index=True)\n",
    "    \n",
    "df1"
   ]
  },
  {
   "cell_type": "code",
   "execution_count": 33,
   "metadata": {},
   "outputs": [],
   "source": []
  },
  {
   "cell_type": "code",
   "execution_count": 34,
   "metadata": {},
   "outputs": [],
   "source": []
  },
  {
   "cell_type": "code",
   "execution_count": 35,
   "metadata": {},
   "outputs": [],
   "source": [
    "df.drop_duplicates(inplace=True)\n",
    "df.reset_index(drop=True, inplace=True)"
   ]
  },
  {
   "cell_type": "code",
   "execution_count": 36,
   "metadata": {},
   "outputs": [],
   "source": [
    "df.to_csv('./crawling/youtube_naver_blog_concat2.csv')"
   ]
  },
  {
   "cell_type": "code",
   "execution_count": 37,
   "metadata": {},
   "outputs": [
    {
     "name": "stdout",
     "output_type": "stream",
     "text": [
      "                                               title\n",
      "0     재업ㅠㅠ[먹방 브이로그#9] 가을은 천고마비의 계절..🍂 하늘은 높고 나는 살찐다🐷\n",
      "1                                   아내랑 굴다리에서 삼겹살 먹방\n",
      "2            1부 - 밀리터리 버거 먹방 / 2부 - 브롤스타즈 꿀잼 미션 받습니다\n",
      "3  치즈 가득~ 어머니와 시카고 피자 (Chicago-style pizza) 먹방!! ...\n",
      "4  [먹방vlog] 내가 명절을 기다린 이유 _ 꽃게찜+한우구이+비오는날 삼겹살+회+라...\n"
     ]
    }
   ],
   "source": [
    "print(df.head())"
   ]
  },
  {
   "cell_type": "code",
   "execution_count": 38,
   "metadata": {},
   "outputs": [
    {
     "name": "stdout",
     "output_type": "stream",
     "text": [
      "<class 'pandas.core.frame.DataFrame'>\n",
      "RangeIndex: 2209 entries, 0 to 2208\n",
      "Data columns (total 1 columns):\n",
      " #   Column  Non-Null Count  Dtype \n",
      "---  ------  --------------  ----- \n",
      " 0   title   2209 non-null   object\n",
      "dtypes: object(1)\n",
      "memory usage: 17.4+ KB\n",
      "None\n"
     ]
    }
   ],
   "source": [
    "print(df.info())"
   ]
  },
  {
   "cell_type": "code",
   "execution_count": null,
   "metadata": {},
   "outputs": [],
   "source": []
  }
 ],
 "metadata": {
  "kernelspec": {
   "display_name": "Python 3",
   "language": "python",
   "name": "python3"
  },
  "language_info": {
   "codemirror_mode": {
    "name": "ipython",
    "version": 3
   },
   "file_extension": ".py",
   "mimetype": "text/x-python",
   "name": "python",
   "nbconvert_exporter": "python",
   "pygments_lexer": "ipython3",
   "version": "3.7.7"
  }
 },
 "nbformat": 4,
 "nbformat_minor": 4
}
