{
 "cells": [
  {
   "cell_type": "code",
   "execution_count": 1,
   "metadata": {},
   "outputs": [],
   "source": [
    "import pandas as pd\n",
    "import numpy as np\n",
    "import datetime"
   ]
  },
  {
   "cell_type": "code",
   "execution_count": 2,
   "metadata": {},
   "outputs": [
    {
     "ename": "FileNotFoundError",
     "evalue": "[Errno 2] No such file or directory: './datasets/crawling_youtube_1015.csv'",
     "output_type": "error",
     "traceback": [
      "\u001b[1;31m---------------------------------------------------------------------------\u001b[0m",
      "\u001b[1;31mFileNotFoundError\u001b[0m                         Traceback (most recent call last)",
      "\u001b[1;32m<ipython-input-2-277d4e36e9f6>\u001b[0m in \u001b[0;36m<module>\u001b[1;34m\u001b[0m\n\u001b[1;32m----> 1\u001b[1;33m \u001b[0mdf\u001b[0m \u001b[1;33m=\u001b[0m \u001b[0mpd\u001b[0m\u001b[1;33m.\u001b[0m\u001b[0mread_csv\u001b[0m\u001b[1;33m(\u001b[0m\u001b[1;34m'./datasets/crawling_youtube_1015.csv'\u001b[0m\u001b[1;33m)\u001b[0m\u001b[1;33m\u001b[0m\u001b[1;33m\u001b[0m\u001b[0m\n\u001b[0m\u001b[0;32m      2\u001b[0m \u001b[0mdf\u001b[0m\u001b[1;33m.\u001b[0m\u001b[0mdrop\u001b[0m\u001b[1;33m(\u001b[0m\u001b[1;33m[\u001b[0m\u001b[0mdf\u001b[0m\u001b[1;33m.\u001b[0m\u001b[0mcolumns\u001b[0m\u001b[1;33m[\u001b[0m\u001b[1;36m0\u001b[0m\u001b[1;33m]\u001b[0m\u001b[1;33m]\u001b[0m\u001b[1;33m,\u001b[0m\u001b[0maxis\u001b[0m\u001b[1;33m=\u001b[0m\u001b[1;36m1\u001b[0m\u001b[1;33m,\u001b[0m \u001b[0minplace\u001b[0m\u001b[1;33m=\u001b[0m\u001b[1;32mTrue\u001b[0m\u001b[1;33m)\u001b[0m\u001b[1;33m\u001b[0m\u001b[1;33m\u001b[0m\u001b[0m\n\u001b[0;32m      3\u001b[0m \u001b[0mdf\u001b[0m\u001b[1;33m.\u001b[0m\u001b[0minfo\u001b[0m\u001b[1;33m(\u001b[0m\u001b[1;33m)\u001b[0m\u001b[1;33m\u001b[0m\u001b[1;33m\u001b[0m\u001b[0m\n\u001b[0;32m      4\u001b[0m \u001b[0mprint\u001b[0m\u001b[1;33m(\u001b[0m\u001b[0mdf\u001b[0m\u001b[1;33m)\u001b[0m\u001b[1;33m\u001b[0m\u001b[1;33m\u001b[0m\u001b[0m\n",
      "\u001b[1;32mc:\\users\\07\\anaconda3\\envs\\machinelearning\\lib\\site-packages\\pandas\\io\\parsers.py\u001b[0m in \u001b[0;36mread_csv\u001b[1;34m(filepath_or_buffer, sep, delimiter, header, names, index_col, usecols, squeeze, prefix, mangle_dupe_cols, dtype, engine, converters, true_values, false_values, skipinitialspace, skiprows, skipfooter, nrows, na_values, keep_default_na, na_filter, verbose, skip_blank_lines, parse_dates, infer_datetime_format, keep_date_col, date_parser, dayfirst, cache_dates, iterator, chunksize, compression, thousands, decimal, lineterminator, quotechar, quoting, doublequote, escapechar, comment, encoding, dialect, error_bad_lines, warn_bad_lines, delim_whitespace, low_memory, memory_map, float_precision)\u001b[0m\n\u001b[0;32m    684\u001b[0m     )\n\u001b[0;32m    685\u001b[0m \u001b[1;33m\u001b[0m\u001b[0m\n\u001b[1;32m--> 686\u001b[1;33m     \u001b[1;32mreturn\u001b[0m \u001b[0m_read\u001b[0m\u001b[1;33m(\u001b[0m\u001b[0mfilepath_or_buffer\u001b[0m\u001b[1;33m,\u001b[0m \u001b[0mkwds\u001b[0m\u001b[1;33m)\u001b[0m\u001b[1;33m\u001b[0m\u001b[1;33m\u001b[0m\u001b[0m\n\u001b[0m\u001b[0;32m    687\u001b[0m \u001b[1;33m\u001b[0m\u001b[0m\n\u001b[0;32m    688\u001b[0m \u001b[1;33m\u001b[0m\u001b[0m\n",
      "\u001b[1;32mc:\\users\\07\\anaconda3\\envs\\machinelearning\\lib\\site-packages\\pandas\\io\\parsers.py\u001b[0m in \u001b[0;36m_read\u001b[1;34m(filepath_or_buffer, kwds)\u001b[0m\n\u001b[0;32m    450\u001b[0m \u001b[1;33m\u001b[0m\u001b[0m\n\u001b[0;32m    451\u001b[0m     \u001b[1;31m# Create the parser.\u001b[0m\u001b[1;33m\u001b[0m\u001b[1;33m\u001b[0m\u001b[1;33m\u001b[0m\u001b[0m\n\u001b[1;32m--> 452\u001b[1;33m     \u001b[0mparser\u001b[0m \u001b[1;33m=\u001b[0m \u001b[0mTextFileReader\u001b[0m\u001b[1;33m(\u001b[0m\u001b[0mfp_or_buf\u001b[0m\u001b[1;33m,\u001b[0m \u001b[1;33m**\u001b[0m\u001b[0mkwds\u001b[0m\u001b[1;33m)\u001b[0m\u001b[1;33m\u001b[0m\u001b[1;33m\u001b[0m\u001b[0m\n\u001b[0m\u001b[0;32m    453\u001b[0m \u001b[1;33m\u001b[0m\u001b[0m\n\u001b[0;32m    454\u001b[0m     \u001b[1;32mif\u001b[0m \u001b[0mchunksize\u001b[0m \u001b[1;32mor\u001b[0m \u001b[0miterator\u001b[0m\u001b[1;33m:\u001b[0m\u001b[1;33m\u001b[0m\u001b[1;33m\u001b[0m\u001b[0m\n",
      "\u001b[1;32mc:\\users\\07\\anaconda3\\envs\\machinelearning\\lib\\site-packages\\pandas\\io\\parsers.py\u001b[0m in \u001b[0;36m__init__\u001b[1;34m(self, f, engine, **kwds)\u001b[0m\n\u001b[0;32m    934\u001b[0m             \u001b[0mself\u001b[0m\u001b[1;33m.\u001b[0m\u001b[0moptions\u001b[0m\u001b[1;33m[\u001b[0m\u001b[1;34m\"has_index_names\"\u001b[0m\u001b[1;33m]\u001b[0m \u001b[1;33m=\u001b[0m \u001b[0mkwds\u001b[0m\u001b[1;33m[\u001b[0m\u001b[1;34m\"has_index_names\"\u001b[0m\u001b[1;33m]\u001b[0m\u001b[1;33m\u001b[0m\u001b[1;33m\u001b[0m\u001b[0m\n\u001b[0;32m    935\u001b[0m \u001b[1;33m\u001b[0m\u001b[0m\n\u001b[1;32m--> 936\u001b[1;33m         \u001b[0mself\u001b[0m\u001b[1;33m.\u001b[0m\u001b[0m_make_engine\u001b[0m\u001b[1;33m(\u001b[0m\u001b[0mself\u001b[0m\u001b[1;33m.\u001b[0m\u001b[0mengine\u001b[0m\u001b[1;33m)\u001b[0m\u001b[1;33m\u001b[0m\u001b[1;33m\u001b[0m\u001b[0m\n\u001b[0m\u001b[0;32m    937\u001b[0m \u001b[1;33m\u001b[0m\u001b[0m\n\u001b[0;32m    938\u001b[0m     \u001b[1;32mdef\u001b[0m \u001b[0mclose\u001b[0m\u001b[1;33m(\u001b[0m\u001b[0mself\u001b[0m\u001b[1;33m)\u001b[0m\u001b[1;33m:\u001b[0m\u001b[1;33m\u001b[0m\u001b[1;33m\u001b[0m\u001b[0m\n",
      "\u001b[1;32mc:\\users\\07\\anaconda3\\envs\\machinelearning\\lib\\site-packages\\pandas\\io\\parsers.py\u001b[0m in \u001b[0;36m_make_engine\u001b[1;34m(self, engine)\u001b[0m\n\u001b[0;32m   1166\u001b[0m     \u001b[1;32mdef\u001b[0m \u001b[0m_make_engine\u001b[0m\u001b[1;33m(\u001b[0m\u001b[0mself\u001b[0m\u001b[1;33m,\u001b[0m \u001b[0mengine\u001b[0m\u001b[1;33m=\u001b[0m\u001b[1;34m\"c\"\u001b[0m\u001b[1;33m)\u001b[0m\u001b[1;33m:\u001b[0m\u001b[1;33m\u001b[0m\u001b[1;33m\u001b[0m\u001b[0m\n\u001b[0;32m   1167\u001b[0m         \u001b[1;32mif\u001b[0m \u001b[0mengine\u001b[0m \u001b[1;33m==\u001b[0m \u001b[1;34m\"c\"\u001b[0m\u001b[1;33m:\u001b[0m\u001b[1;33m\u001b[0m\u001b[1;33m\u001b[0m\u001b[0m\n\u001b[1;32m-> 1168\u001b[1;33m             \u001b[0mself\u001b[0m\u001b[1;33m.\u001b[0m\u001b[0m_engine\u001b[0m \u001b[1;33m=\u001b[0m \u001b[0mCParserWrapper\u001b[0m\u001b[1;33m(\u001b[0m\u001b[0mself\u001b[0m\u001b[1;33m.\u001b[0m\u001b[0mf\u001b[0m\u001b[1;33m,\u001b[0m \u001b[1;33m**\u001b[0m\u001b[0mself\u001b[0m\u001b[1;33m.\u001b[0m\u001b[0moptions\u001b[0m\u001b[1;33m)\u001b[0m\u001b[1;33m\u001b[0m\u001b[1;33m\u001b[0m\u001b[0m\n\u001b[0m\u001b[0;32m   1169\u001b[0m         \u001b[1;32melse\u001b[0m\u001b[1;33m:\u001b[0m\u001b[1;33m\u001b[0m\u001b[1;33m\u001b[0m\u001b[0m\n\u001b[0;32m   1170\u001b[0m             \u001b[1;32mif\u001b[0m \u001b[0mengine\u001b[0m \u001b[1;33m==\u001b[0m \u001b[1;34m\"python\"\u001b[0m\u001b[1;33m:\u001b[0m\u001b[1;33m\u001b[0m\u001b[1;33m\u001b[0m\u001b[0m\n",
      "\u001b[1;32mc:\\users\\07\\anaconda3\\envs\\machinelearning\\lib\\site-packages\\pandas\\io\\parsers.py\u001b[0m in \u001b[0;36m__init__\u001b[1;34m(self, src, **kwds)\u001b[0m\n\u001b[0;32m   1996\u001b[0m         \u001b[0mkwds\u001b[0m\u001b[1;33m[\u001b[0m\u001b[1;34m\"usecols\"\u001b[0m\u001b[1;33m]\u001b[0m \u001b[1;33m=\u001b[0m \u001b[0mself\u001b[0m\u001b[1;33m.\u001b[0m\u001b[0musecols\u001b[0m\u001b[1;33m\u001b[0m\u001b[1;33m\u001b[0m\u001b[0m\n\u001b[0;32m   1997\u001b[0m \u001b[1;33m\u001b[0m\u001b[0m\n\u001b[1;32m-> 1998\u001b[1;33m         \u001b[0mself\u001b[0m\u001b[1;33m.\u001b[0m\u001b[0m_reader\u001b[0m \u001b[1;33m=\u001b[0m \u001b[0mparsers\u001b[0m\u001b[1;33m.\u001b[0m\u001b[0mTextReader\u001b[0m\u001b[1;33m(\u001b[0m\u001b[0msrc\u001b[0m\u001b[1;33m,\u001b[0m \u001b[1;33m**\u001b[0m\u001b[0mkwds\u001b[0m\u001b[1;33m)\u001b[0m\u001b[1;33m\u001b[0m\u001b[1;33m\u001b[0m\u001b[0m\n\u001b[0m\u001b[0;32m   1999\u001b[0m         \u001b[0mself\u001b[0m\u001b[1;33m.\u001b[0m\u001b[0munnamed_cols\u001b[0m \u001b[1;33m=\u001b[0m \u001b[0mself\u001b[0m\u001b[1;33m.\u001b[0m\u001b[0m_reader\u001b[0m\u001b[1;33m.\u001b[0m\u001b[0munnamed_cols\u001b[0m\u001b[1;33m\u001b[0m\u001b[1;33m\u001b[0m\u001b[0m\n\u001b[0;32m   2000\u001b[0m \u001b[1;33m\u001b[0m\u001b[0m\n",
      "\u001b[1;32mpandas\\_libs\\parsers.pyx\u001b[0m in \u001b[0;36mpandas._libs.parsers.TextReader.__cinit__\u001b[1;34m()\u001b[0m\n",
      "\u001b[1;32mpandas\\_libs\\parsers.pyx\u001b[0m in \u001b[0;36mpandas._libs.parsers.TextReader._setup_parser_source\u001b[1;34m()\u001b[0m\n",
      "\u001b[1;31mFileNotFoundError\u001b[0m: [Errno 2] No such file or directory: './datasets/crawling_youtube_1015.csv'"
     ]
    }
   ],
   "source": [
    "df = pd.read_csv('./datasets/crawling_youtube_1015.csv')\n",
    "df.drop([df.columns[0]],axis=1, inplace=True)\n",
    "df.info()\n",
    "print(df)"
   ]
  },
  {
   "cell_type": "code",
   "execution_count": 11,
   "metadata": {},
   "outputs": [
    {
     "name": "stdout",
     "output_type": "stream",
     "text": [
      "                                                  title                date  \\\n",
      "0                                  BHC 치즈볼 긴장해야 할거같습니다.  최초 공개: 2020. 4. 2.   \n",
      "1                                  BHC 치즈볼 긴장해야 할거같습니다.  최초 공개: 2020. 4. 2.   \n",
      "2                                  BHC 치즈볼 긴장해야 할거같습니다.  최초 공개: 2020. 4. 2.   \n",
      "3                                  BHC 치즈볼 긴장해야 할거같습니다.  최초 공개: 2020. 4. 2.   \n",
      "4                                  BHC 치즈볼 긴장해야 할거같습니다.  최초 공개: 2020. 4. 2.   \n",
      "...                                                 ...                 ...   \n",
      "2733  ASMR CHEESY BURGER KING ,CHEESE BALL, Chicken ...         2020. 2. 4.   \n",
      "2734  ASMR CHEESY BURGER KING ,CHEESE BALL, Chicken ...         2020. 2. 4.   \n",
      "2735  ASMR CHEESY BURGER KING ,CHEESE BALL, Chicken ...         2020. 2. 4.   \n",
      "2736  ASMR CHEESY BURGER KING ,CHEESE BALL, Chicken ...         2020. 2. 4.   \n",
      "2737  ASMR CHEESY BURGER KING ,CHEESE BALL, Chicken ...         2020. 2. 4.   \n",
      "\n",
      "          youtuber                                            comment  \n",
      "0         애주가TV참PD                  전국의 치즈볼이 씨가 마르겠네요...\\n오늘 영상 대박입니다  \n",
      "1         애주가TV참PD  여러분이 드시는 치킨 프랜차이즈 치즈볼은 거의 다  자체생산이 아닌 외주를 통해 나...  \n",
      "2         애주가TV참PD  이런 컨텐츠 참 좋은거 같아요 . 우리나라는 대기업에 여러가지가 집중되어 있는데 훌...  \n",
      "3         애주가TV참PD  5:03 8700 더 바삭한\\n5:55 9500 푸드킹\\n6:19 11500 썬리취...  \n",
      "4         애주가TV참PD                                          8:11 최종평가  \n",
      "...            ...                                                ...  \n",
      "2733  DONI ASMR 도니                                          amo carne  \n",
      "2734  DONI ASMR 도니                                    Nice<3 ilyyyy:(  \n",
      "2735  DONI ASMR 도니        Like 23 wow everything looks so delicious🤤👌  \n",
      "2736  DONI ASMR 도니                               햄버거가 진짜 짱크네요 맛있겠다 ,,  \n",
      "2737  DONI ASMR 도니                                   Amo batata frita  \n",
      "\n",
      "[2738 rows x 4 columns]\n"
     ]
    }
   ],
   "source": [
    "#NaN값 제거\n",
    "df.isnull().sum()\n",
    "df = df.dropna()\n",
    "df.reset_index(drop =True, inplace = True)\n",
    "print(df)"
   ]
  },
  {
   "cell_type": "code",
   "execution_count": 16,
   "metadata": {},
   "outputs": [
    {
     "data": {
      "text/plain": [
       "0        2020-4-2\n",
       "1        2020-4-2\n",
       "2        2020-4-2\n",
       "3        2020-4-2\n",
       "4        2020-4-2\n",
       "          ...    \n",
       "2733     2020-2-4\n",
       "2734     2020-2-4\n",
       "2735     2020-2-4\n",
       "2736     2020-2-4\n",
       "2737     2020-2-4\n",
       "Name: date, Length: 2738, dtype: object"
      ]
     },
     "execution_count": 16,
     "metadata": {},
     "output_type": "execute_result"
    }
   ],
   "source": [
    "for i in range(len(df)):\n",
    "    df['date'][i] = df['date'][i].replace('년', '')\n",
    "df['date']\n"
   ]
  },
  {
   "cell_type": "code",
   "execution_count": 17,
   "metadata": {},
   "outputs": [],
   "source": [
    "df['date'] = pd.to_datetime(df['date'])"
   ]
  },
  {
   "cell_type": "code",
   "execution_count": 18,
   "metadata": {},
   "outputs": [
    {
     "name": "stderr",
     "output_type": "stream",
     "text": [
      "c:\\users\\024\\anaconda3\\envs\\machinelearning\\lib\\site-packages\\ipykernel_launcher.py:2: SettingWithCopyWarning: \n",
      "A value is trying to be set on a copy of a slice from a DataFrame\n",
      "\n",
      "See the caveats in the documentation: https://pandas.pydata.org/pandas-docs/stable/user_guide/indexing.html#returning-a-view-versus-a-copy\n",
      "  \n",
      "c:\\users\\024\\anaconda3\\envs\\machinelearning\\lib\\site-packages\\pandas\\core\\indexing.py:670: SettingWithCopyWarning: \n",
      "A value is trying to be set on a copy of a slice from a DataFrame\n",
      "\n",
      "See the caveats in the documentation: https://pandas.pydata.org/pandas-docs/stable/user_guide/indexing.html#returning-a-view-versus-a-copy\n",
      "  iloc._setitem_with_indexer(indexer, value)\n"
     ]
    }
   ],
   "source": [
    "for z in range(len(df)): \n",
    "    df['date'][z] = df['date'][z].strftime('%Y-%m-%d')"
   ]
  },
  {
   "cell_type": "code",
   "execution_count": 19,
   "metadata": {},
   "outputs": [
    {
     "data": {
      "text/html": [
       "<div>\n",
       "<style scoped>\n",
       "    .dataframe tbody tr th:only-of-type {\n",
       "        vertical-align: middle;\n",
       "    }\n",
       "\n",
       "    .dataframe tbody tr th {\n",
       "        vertical-align: top;\n",
       "    }\n",
       "\n",
       "    .dataframe thead th {\n",
       "        text-align: right;\n",
       "    }\n",
       "</style>\n",
       "<table border=\"1\" class=\"dataframe\">\n",
       "  <thead>\n",
       "    <tr style=\"text-align: right;\">\n",
       "      <th></th>\n",
       "      <th>title</th>\n",
       "      <th>date</th>\n",
       "      <th>youtuber</th>\n",
       "      <th>comment</th>\n",
       "    </tr>\n",
       "  </thead>\n",
       "  <tbody>\n",
       "    <tr>\n",
       "      <th>0</th>\n",
       "      <td>BHC 치즈볼 긴장해야 할거같습니다.</td>\n",
       "      <td>2020-04-02</td>\n",
       "      <td>애주가TV참PD</td>\n",
       "      <td>전국의 치즈볼이 씨가 마르겠네요...\\n오늘 영상 대박입니다</td>\n",
       "    </tr>\n",
       "    <tr>\n",
       "      <th>1</th>\n",
       "      <td>BHC 치즈볼 긴장해야 할거같습니다.</td>\n",
       "      <td>2020-04-02</td>\n",
       "      <td>애주가TV참PD</td>\n",
       "      <td>여러분이 드시는 치킨 프랜차이즈 치즈볼은 거의 다  자체생산이 아닌 외주를 통해 나...</td>\n",
       "    </tr>\n",
       "    <tr>\n",
       "      <th>2</th>\n",
       "      <td>BHC 치즈볼 긴장해야 할거같습니다.</td>\n",
       "      <td>2020-04-02</td>\n",
       "      <td>애주가TV참PD</td>\n",
       "      <td>이런 컨텐츠 참 좋은거 같아요 . 우리나라는 대기업에 여러가지가 집중되어 있는데 훌...</td>\n",
       "    </tr>\n",
       "    <tr>\n",
       "      <th>3</th>\n",
       "      <td>BHC 치즈볼 긴장해야 할거같습니다.</td>\n",
       "      <td>2020-04-02</td>\n",
       "      <td>애주가TV참PD</td>\n",
       "      <td>5:03 8700 더 바삭한\\n5:55 9500 푸드킹\\n6:19 11500 썬리취...</td>\n",
       "    </tr>\n",
       "    <tr>\n",
       "      <th>4</th>\n",
       "      <td>BHC 치즈볼 긴장해야 할거같습니다.</td>\n",
       "      <td>2020-04-02</td>\n",
       "      <td>애주가TV참PD</td>\n",
       "      <td>8:11 최종평가</td>\n",
       "    </tr>\n",
       "    <tr>\n",
       "      <th>...</th>\n",
       "      <td>...</td>\n",
       "      <td>...</td>\n",
       "      <td>...</td>\n",
       "      <td>...</td>\n",
       "    </tr>\n",
       "    <tr>\n",
       "      <th>2733</th>\n",
       "      <td>ASMR CHEESY BURGER KING ,CHEESE BALL, Chicken ...</td>\n",
       "      <td>2020-02-04</td>\n",
       "      <td>DONI ASMR 도니</td>\n",
       "      <td>amo carne</td>\n",
       "    </tr>\n",
       "    <tr>\n",
       "      <th>2734</th>\n",
       "      <td>ASMR CHEESY BURGER KING ,CHEESE BALL, Chicken ...</td>\n",
       "      <td>2020-02-04</td>\n",
       "      <td>DONI ASMR 도니</td>\n",
       "      <td>Nice&lt;3 ilyyyy:(</td>\n",
       "    </tr>\n",
       "    <tr>\n",
       "      <th>2735</th>\n",
       "      <td>ASMR CHEESY BURGER KING ,CHEESE BALL, Chicken ...</td>\n",
       "      <td>2020-02-04</td>\n",
       "      <td>DONI ASMR 도니</td>\n",
       "      <td>Like 23 wow everything looks so delicious🤤👌</td>\n",
       "    </tr>\n",
       "    <tr>\n",
       "      <th>2736</th>\n",
       "      <td>ASMR CHEESY BURGER KING ,CHEESE BALL, Chicken ...</td>\n",
       "      <td>2020-02-04</td>\n",
       "      <td>DONI ASMR 도니</td>\n",
       "      <td>햄버거가 진짜 짱크네요 맛있겠다 ,,</td>\n",
       "    </tr>\n",
       "    <tr>\n",
       "      <th>2737</th>\n",
       "      <td>ASMR CHEESY BURGER KING ,CHEESE BALL, Chicken ...</td>\n",
       "      <td>2020-02-04</td>\n",
       "      <td>DONI ASMR 도니</td>\n",
       "      <td>Amo batata frita</td>\n",
       "    </tr>\n",
       "  </tbody>\n",
       "</table>\n",
       "<p>2738 rows × 4 columns</p>\n",
       "</div>"
      ],
      "text/plain": [
       "                                                  title        date  \\\n",
       "0                                  BHC 치즈볼 긴장해야 할거같습니다.  2020-04-02   \n",
       "1                                  BHC 치즈볼 긴장해야 할거같습니다.  2020-04-02   \n",
       "2                                  BHC 치즈볼 긴장해야 할거같습니다.  2020-04-02   \n",
       "3                                  BHC 치즈볼 긴장해야 할거같습니다.  2020-04-02   \n",
       "4                                  BHC 치즈볼 긴장해야 할거같습니다.  2020-04-02   \n",
       "...                                                 ...         ...   \n",
       "2733  ASMR CHEESY BURGER KING ,CHEESE BALL, Chicken ...  2020-02-04   \n",
       "2734  ASMR CHEESY BURGER KING ,CHEESE BALL, Chicken ...  2020-02-04   \n",
       "2735  ASMR CHEESY BURGER KING ,CHEESE BALL, Chicken ...  2020-02-04   \n",
       "2736  ASMR CHEESY BURGER KING ,CHEESE BALL, Chicken ...  2020-02-04   \n",
       "2737  ASMR CHEESY BURGER KING ,CHEESE BALL, Chicken ...  2020-02-04   \n",
       "\n",
       "          youtuber                                            comment  \n",
       "0         애주가TV참PD                  전국의 치즈볼이 씨가 마르겠네요...\\n오늘 영상 대박입니다  \n",
       "1         애주가TV참PD  여러분이 드시는 치킨 프랜차이즈 치즈볼은 거의 다  자체생산이 아닌 외주를 통해 나...  \n",
       "2         애주가TV참PD  이런 컨텐츠 참 좋은거 같아요 . 우리나라는 대기업에 여러가지가 집중되어 있는데 훌...  \n",
       "3         애주가TV참PD  5:03 8700 더 바삭한\\n5:55 9500 푸드킹\\n6:19 11500 썬리취...  \n",
       "4         애주가TV참PD                                          8:11 최종평가  \n",
       "...            ...                                                ...  \n",
       "2733  DONI ASMR 도니                                          amo carne  \n",
       "2734  DONI ASMR 도니                                    Nice<3 ilyyyy:(  \n",
       "2735  DONI ASMR 도니        Like 23 wow everything looks so delicious🤤👌  \n",
       "2736  DONI ASMR 도니                               햄버거가 진짜 짱크네요 맛있겠다 ,,  \n",
       "2737  DONI ASMR 도니                                   Amo batata frita  \n",
       "\n",
       "[2738 rows x 4 columns]"
      ]
     },
     "execution_count": 19,
     "metadata": {},
     "output_type": "execute_result"
    }
   ],
   "source": [
    "df"
   ]
  },
  {
   "cell_type": "code",
   "execution_count": 20,
   "metadata": {},
   "outputs": [],
   "source": [
    "df.to_csv('prj_sns_trend_crawling_youtube_치즈볼.csv')"
   ]
  },
  {
   "cell_type": "code",
   "execution_count": 6,
   "metadata": {},
   "outputs": [],
   "source": [
    "df = pd.read_csv('../prj_sns_trend_private/prj_sns_trend_crawling_youtube_치즈볼1016.csv')"
   ]
  },
  {
   "cell_type": "code",
   "execution_count": 11,
   "metadata": {},
   "outputs": [
    {
     "data": {
      "text/plain": [
       "array(['애주가TV참PD', '핏블리 FITVELY', '쯔양 영상 다시보기', '바다곰조해웅SeaBear',\n",
       "       '히밥heebab', '나도Nado', '푸들커플', '엔조이커플enjoycouple', '비연Beeyeon',\n",
       "       '스브스뉴스 SUBUSU NEWS', '마이맘 TV', '슈기님', '교광TV', '[Nareum_TV] 나름TV',\n",
       "       '떵개떵', '권회훈', '코저트 Cossert', '샐둥ssaldong', '율이 Yulii', '토깽이네',\n",
       "       '이채윤YouTube', '[AmiAmi]아미아미', '원츄 wonchu', '먹갱_먹방갱스터',\n",
       "       '곰슈슈 gomshushu', '강과장', 'DORADORA도라도라', 'Jane ASMR 제인',\n",
       "       '코리안브로스 KOREAN BROS ENT', '턱형 (GOD-TUK)', '봉길이 Bonggil', '블로거WHY',\n",
       "       'Sally 셀리', 'korean seller', '노래하는하람', '[상윤쓰]Sangyoon',\n",
       "       'HAMBUK 햄벅', '짝귱댕이', '푸딧 FoodEat', '꿀수현Honey Hyeon',\n",
       "       '[빵튜브] 뽀니 BreadTube', '하니얌 haniyam', '빡째 ppag jjae',\n",
       "       'SBS ENTER PLAY', '파투 TV', '당당해진JANIE', 'DONA 도나', '[햄지]Hamzy',\n",
       "       '율하이', '광족들', 'joody tv주디', 'Chan Sori Asmr', '_카러플지원',\n",
       "       'Hongyu ASMR 홍유', 'w motion', '바른씨', 'Muggo', '먹남 Muknam ASMR',\n",
       "       '밍꾸TV mingkuTV', '디스패치 / Dispatch', 'Jeje ASMR 제제', '설기양SULGI',\n",
       "       \"얼스키친 eol's kitchen\", '부라도', '애정 Aejeong', '준규_ASMR', '상남자1',\n",
       "       '빠더너스 BDNS', 'Honey Lip ASMR 허니립', '썸머SUMMER', '시식콜콜ASMR',\n",
       "       '설하snowysummer', '다그래Dagre', '톡톡시아 Toctocsia', '랄라브루스',\n",
       "       '만개의레시피 10K Recipe', 'Asak ASMR 아삭', 'sini시니', '김인호TV', 'Hoon 강성훈',\n",
       "       '빅윈TV', '에드머 Edmmer', 'GONGSAM TABLE 이공삼', 'SIYEON HAN',\n",
       "       '잇걸Great-Girl', 'Donam도남이먹방', '상해기SangHyuk', '리듬탭',\n",
       "       'JaeYeol ASMR 재열', '규리 KYULEE', 'ZOEY ASMR 조이', 'Sinae Eats시내',\n",
       "       \"헨렌의 키친Helen's Kitchen\", 'SAJOgroup', '참씨charm.C', '쭈니쭈니',\n",
       "       '나랑NARANG ASMR', '세자책봉 SeBong', '꽃거지 Flower Beggar', 'M2',\n",
       "       '까니짱 [ G-NI ]', 'Penki ASMR 편집맛집 펭키', '효닝 Hyoning', 'Jimmy ASMR',\n",
       "       'am0950 아홉시오십분', '인아짱 Inah Eats', 'KBS Entertain', '완이WAN YI',\n",
       "       'ASMR 쥐는맛', '푸메Fume', '[맛좋은남자]', 'yooyoo ASMR 유유',\n",
       "       '데일TV eat with dale', '블스원샷TV BlsOneshot', 'JUHAN Mukbang주한',\n",
       "       '수향TV [suhyangTV]', '짱대ASMR_zzangdae', 'Mellawnie ASMR 멜라우니',\n",
       "       '나를보라 리승만TV LEE SM', '주멍이네 먹방', 'SSONG ASMR', '가파 GP',\n",
       "       '리트윈스 Leetwins', '송스러운나날 ASMR', 'DONI ASMR 도니'], dtype=object)"
      ]
     },
     "execution_count": 11,
     "metadata": {},
     "output_type": "execute_result"
    }
   ],
   "source": [
    "df['youtuber'].unique()\n",
    "\n",
    "#유투브 인플루언서 조회수 반영\n",
    "#인스타는 좋아요 수 \n",
    "#"
   ]
  },
  {
   "cell_type": "code",
   "execution_count": null,
   "metadata": {},
   "outputs": [],
   "source": []
  }
 ],
 "metadata": {
  "kernelspec": {
   "display_name": "Python 3",
   "language": "python",
   "name": "python3"
  },
  "language_info": {
   "codemirror_mode": {
    "name": "ipython",
    "version": 3
   },
   "file_extension": ".py",
   "mimetype": "text/x-python",
   "name": "python",
   "nbconvert_exporter": "python",
   "pygments_lexer": "ipython3",
   "version": "3.7.7"
  }
 },
 "nbformat": 4,
 "nbformat_minor": 4
}
