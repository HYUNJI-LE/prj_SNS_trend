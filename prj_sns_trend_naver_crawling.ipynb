{
 "cells": [
  {
   "cell_type": "code",
   "execution_count": 1,
   "metadata": {
    "id": "DG8IoemGGrSk"
   },
   "outputs": [],
   "source": [
    "from bs4 import BeautifulSoup\n",
    "import requests\n",
    "import re\n",
    "import pandas as pd"
   ]
  },
  {
   "cell_type": "markdown",
   "metadata": {
    "id": "7OS_AV6R893z"
   },
   "source": []
  },
  {
   "cell_type": "code",
   "execution_count": 49,
   "metadata": {
    "colab": {
     "base_uri": "https://localhost:8080/",
     "height": 1000
    },
    "id": "l_4SYzv8GrTE",
    "outputId": "6c0aa618-e417-46af-bc46-02ac387e2a58"
   },
   "outputs": [
    {
     "name": "stdout",
     "output_type": "stream",
     "text": [
      "치즈볼 0\n",
      "치즈볼 1\n",
      "치즈볼 2\n",
      "치즈볼 3\n",
      "치즈볼 4\n",
      "치즈볼 5\n",
      "치즈볼 6\n",
      "치즈볼 7\n",
      "치즈볼 8\n",
      "치즈볼 9\n",
      "치즈볼 10\n",
      "치즈볼 11\n",
      "치즈볼 12\n",
      "치즈볼 13\n",
      "치즈볼 14\n",
      "치즈볼 15\n",
      "치즈볼 16\n",
      "치즈볼 17\n",
      "치즈볼 18\n",
      "치즈볼 19\n",
      "치즈볼 20\n",
      "치즈볼 21\n",
      "치즈볼 22\n",
      "치즈볼 23\n",
      "치즈볼 24\n",
      "치즈볼 25\n",
      "치즈볼 26\n",
      "치즈볼 27\n",
      "치즈볼 28\n",
      "치즈볼 29\n",
      "치즈볼 30\n",
      "치즈볼 31\n",
      "치즈볼 32\n",
      "치즈볼 33\n",
      "치즈볼 34\n",
      "치즈볼 35\n",
      "치즈볼 36\n",
      "치즈볼 37\n",
      "치즈볼 38\n",
      "치즈볼 39\n",
      "치즈볼 40\n",
      "치즈볼 41\n",
      "치즈볼 42\n",
      "치즈볼 43\n",
      "치즈볼 44\n",
      "치즈볼 45\n",
      "치즈볼 46\n",
      "치즈볼 47\n",
      "치즈볼 48\n",
      "치즈볼 49\n",
      "치즈볼 50\n",
      "치즈볼 51\n",
      "치즈볼 52\n",
      "치즈볼 53\n",
      "치즈볼 54\n",
      "치즈볼 55\n",
      "치즈볼 56\n",
      "치즈볼 57\n",
      "치즈볼 58\n",
      "치즈볼 59\n",
      "치즈볼 60\n",
      "치즈볼 61\n",
      "치즈볼 62\n",
      "치즈볼 63\n",
      "치즈볼 64\n",
      "치즈볼 65\n",
      "치즈볼 66\n",
      "치즈볼 67\n",
      "치즈볼 68\n",
      "치즈볼 69\n",
      "치즈볼 70\n",
      "치즈볼 71\n",
      "치즈볼 72\n",
      "치즈볼 73\n",
      "치즈볼 74\n",
      "치즈볼 75\n",
      "치즈볼 76\n",
      "치즈볼 77\n",
      "치즈볼 78\n",
      "치즈볼 79\n",
      "치즈볼 80\n",
      "치즈볼 81\n",
      "치즈볼 82\n",
      "치즈볼 83\n",
      "치즈볼 84\n",
      "치즈볼 85\n",
      "치즈볼 86\n",
      "치즈볼 87\n",
      "치즈볼 88\n",
      "치즈볼 89\n",
      "치즈볼 90\n",
      "치즈볼 91\n",
      "치즈볼 92\n",
      "치즈볼 93\n",
      "치즈볼 94\n",
      "치즈볼 95\n",
      "치즈볼 96\n",
      "치즈볼 97\n",
      "치즈볼 98\n",
      "치즈볼 99\n",
      "치즈볼  키워드끝 \n"
     ]
    }
   ],
   "source": [
    "#네이버 블로그 최근 한달 100페이지\n",
    "first_keyword_list = [ '치즈볼']\n",
    "\n",
    "for a in first_keyword_list:\n",
    "    title_list=[]\n",
    "    date_list=[]\n",
    "    for b in range(0,100):\n",
    "        try:\n",
    "            url = 'https://search.naver.com/search.naver?date_from=20200101&date_option=4&date_to=20201013&dup_remove=1&nso=&post_blogurl=& \\\n",
    "            post_blogurl_without=&query={0}&sm=tab_pge&srchby=all&st=sim&where=post&start={1}'.format(a,b*10 +1)\n",
    "            r = requests.get(url)\n",
    "            html = r.content\n",
    "            soup = BeautifulSoup(html, \"html.parser\")\n",
    "            dates = soup.find_all(\"dd\", {'class':\"txt_inline\"}) #날짜\n",
    "            title_tags = soup.find_all(\"a\", {'class':\"sh_blog_title _sp_each_url _sp_each_title\"})  #한페이지당 모든제목 가져옴\n",
    "            content_tags = soup.find_all(\"dd\", {'class':\"sh_blog_passage\"})     #한페이지당 모든 짧은 설명 가져옴\n",
    "\n",
    "\n",
    "            for k in range(len(title_tags)):\n",
    "                date = dates[k].text #k번째 블로그날짜\n",
    "                title_tag = title_tags[k]       #k번째 블로그제목\n",
    "                title_tag = title_tag[\"title\"]  #k번쨰 블로그제목 중 text만\n",
    "                content_tag = content_tags[k].text  #k번째 블로그 짧은글 중 text만\n",
    "                \n",
    "                one_sentence = title_tag + ' ' + content_tag    #제목과 글을 더해서 한문장으로\n",
    "                \n",
    "                date_list.append(date)\n",
    "                title_list.append(one_sentence)\n",
    "            print(a,b)\n",
    "        except:\n",
    "            print(a,b, '에러')\n",
    "\n",
    "    print(a, ' 키워드끝 ')\n",
    "    df = pd.DataFrame({'date':date_list, 'title':title_list})\n",
    "    df.to_csv('prj_sns_trend_crawling_naver_blog_{}.csv'.format(a))\n",
    "\n"
   ]
  },
  {
   "cell_type": "code",
   "execution_count": 71,
   "metadata": {},
   "outputs": [
    {
     "data": {
      "text/plain": [
       "Timestamp('2020-09-26 00:00:00')"
      ]
     },
     "execution_count": 71,
     "metadata": {},
     "output_type": "execute_result"
    }
   ],
   "source": [
    "pd.to_datetime(df['date'][0]) - "
   ]
  },
  {
   "cell_type": "code",
   "execution_count": 73,
   "metadata": {},
   "outputs": [
    {
     "data": {
      "text/plain": [
       "0      2020.09.26. \n",
       "1             5일 전 \n",
       "2           20시간 전 \n",
       "3      2020.09.15. \n",
       "4      2020.09.16. \n",
       "           ...     \n",
       "995    2020.10.03. \n",
       "996           5일 전 \n",
       "997           4일 전 \n",
       "998           6일 전 \n",
       "999           7일 전 \n",
       "Name: date, Length: 1000, dtype: object"
      ]
     },
     "execution_count": 73,
     "metadata": {},
     "output_type": "execute_result"
    }
   ],
   "source": [
    "df['date']"
   ]
  },
  {
   "cell_type": "code",
   "execution_count": null,
   "metadata": {},
   "outputs": [],
   "source": []
  },
  {
   "cell_type": "code",
   "execution_count": 67,
   "metadata": {},
   "outputs": [
    {
     "ename": "AttributeError",
     "evalue": "'str' object has no attribute 'strftime'",
     "output_type": "error",
     "traceback": [
      "\u001b[1;31m---------------------------------------------------------------------------\u001b[0m",
      "\u001b[1;31mAttributeError\u001b[0m                            Traceback (most recent call last)",
      "\u001b[1;32m<ipython-input-67-97a8397842c5>\u001b[0m in \u001b[0;36m<module>\u001b[1;34m\u001b[0m\n\u001b[0;32m      5\u001b[0m \u001b[1;31m#print(time)\u001b[0m\u001b[1;33m\u001b[0m\u001b[1;33m\u001b[0m\u001b[1;33m\u001b[0m\u001b[0m\n\u001b[0;32m      6\u001b[0m \u001b[1;33m\u001b[0m\u001b[0m\n\u001b[1;32m----> 7\u001b[1;33m \u001b[0ma\u001b[0m \u001b[1;33m=\u001b[0m\u001b[0mtime\u001b[0m\u001b[1;33m.\u001b[0m\u001b[0mstrftime\u001b[0m\u001b[1;33m(\u001b[0m\u001b[1;34m'%Y년 %m월'\u001b[0m\u001b[1;33m,\u001b[0m \u001b[0mtime\u001b[0m\u001b[1;33m.\u001b[0m\u001b[0mlocaltime\u001b[0m\u001b[1;33m(\u001b[0m\u001b[0mtime\u001b[0m\u001b[1;33m.\u001b[0m\u001b[0mtime\u001b[0m\u001b[1;33m(\u001b[0m\u001b[1;33m)\u001b[0m\u001b[1;33m)\u001b[0m\u001b[1;33m)\u001b[0m\u001b[1;33m\u001b[0m\u001b[1;33m\u001b[0m\u001b[0m\n\u001b[0m\u001b[0;32m      8\u001b[0m \u001b[0mprint\u001b[0m\u001b[1;33m(\u001b[0m\u001b[0ma\u001b[0m\u001b[1;33m)\u001b[0m\u001b[1;33m\u001b[0m\u001b[1;33m\u001b[0m\u001b[0m\n",
      "\u001b[1;31mAttributeError\u001b[0m: 'str' object has no attribute 'strftime'"
     ]
    }
   ],
   "source": [
    "df['date'][0][0]\n",
    "# time.localtime(time.time()))\n",
    "\n",
    "time = time.asctime(time.localtime(time.time()))\n",
    "#print(time)\n",
    "\n",
    "a =time.strftime('%Y년 %m월', time.localtime(time.time()))\n",
    "print(a)"
   ]
  },
  {
   "cell_type": "code",
   "execution_count": 57,
   "metadata": {},
   "outputs": [
    {
     "ename": "ValueError",
     "evalue": "time data '2020.09.26. ' does not match format '%Y %m $d'",
     "output_type": "error",
     "traceback": [
      "\u001b[1;31m---------------------------------------------------------------------------\u001b[0m",
      "\u001b[1;31mValueError\u001b[0m                                Traceback (most recent call last)",
      "\u001b[1;32m<ipython-input-57-153a2fe1b6a9>\u001b[0m in \u001b[0;36m<module>\u001b[1;34m\u001b[0m\n\u001b[0;32m      1\u001b[0m \u001b[1;32mfrom\u001b[0m \u001b[0mdatetime\u001b[0m \u001b[1;32mimport\u001b[0m \u001b[0mdatetime\u001b[0m\u001b[1;33m\u001b[0m\u001b[1;33m\u001b[0m\u001b[0m\n\u001b[0;32m      2\u001b[0m \u001b[1;32mfor\u001b[0m \u001b[0mz\u001b[0m \u001b[1;32min\u001b[0m \u001b[0mrange\u001b[0m\u001b[1;33m(\u001b[0m\u001b[1;36m0\u001b[0m\u001b[1;33m,\u001b[0m\u001b[0mlen\u001b[0m\u001b[1;33m(\u001b[0m\u001b[0mdf\u001b[0m\u001b[1;33m[\u001b[0m\u001b[1;34m'date'\u001b[0m\u001b[1;33m]\u001b[0m\u001b[1;33m)\u001b[0m\u001b[1;33m)\u001b[0m\u001b[1;33m:\u001b[0m\u001b[1;33m\u001b[0m\u001b[1;33m\u001b[0m\u001b[0m\n\u001b[1;32m----> 3\u001b[1;33m     \u001b[0mdf\u001b[0m\u001b[1;33m[\u001b[0m\u001b[1;34m'date'\u001b[0m\u001b[1;33m]\u001b[0m\u001b[1;33m[\u001b[0m\u001b[0mz\u001b[0m\u001b[1;33m]\u001b[0m \u001b[1;33m=\u001b[0m \u001b[0mdatetime\u001b[0m\u001b[1;33m.\u001b[0m\u001b[0mstrptime\u001b[0m\u001b[1;33m(\u001b[0m\u001b[0mdf\u001b[0m\u001b[1;33m[\u001b[0m\u001b[1;34m'date'\u001b[0m\u001b[1;33m]\u001b[0m\u001b[1;33m[\u001b[0m\u001b[0mz\u001b[0m\u001b[1;33m]\u001b[0m\u001b[1;33m,\u001b[0m \u001b[1;34m\"%Y %m $d\"\u001b[0m\u001b[1;33m)\u001b[0m\u001b[1;33m\u001b[0m\u001b[1;33m\u001b[0m\u001b[0m\n\u001b[0m\u001b[0;32m      4\u001b[0m \u001b[0mprint\u001b[0m\u001b[1;33m(\u001b[0m\u001b[0mdf\u001b[0m\u001b[1;33m[\u001b[0m\u001b[1;34m'date'\u001b[0m\u001b[1;33m]\u001b[0m\u001b[1;33m)\u001b[0m\u001b[1;33m\u001b[0m\u001b[1;33m\u001b[0m\u001b[0m\n",
      "\u001b[1;32mc:\\users\\07\\anaconda3\\envs\\machinelearning\\lib\\_strptime.py\u001b[0m in \u001b[0;36m_strptime_datetime\u001b[1;34m(cls, data_string, format)\u001b[0m\n\u001b[0;32m    575\u001b[0m     \"\"\"Return a class cls instance based on the input string and the\n\u001b[0;32m    576\u001b[0m     format string.\"\"\"\n\u001b[1;32m--> 577\u001b[1;33m     \u001b[0mtt\u001b[0m\u001b[1;33m,\u001b[0m \u001b[0mfraction\u001b[0m\u001b[1;33m,\u001b[0m \u001b[0mgmtoff_fraction\u001b[0m \u001b[1;33m=\u001b[0m \u001b[0m_strptime\u001b[0m\u001b[1;33m(\u001b[0m\u001b[0mdata_string\u001b[0m\u001b[1;33m,\u001b[0m \u001b[0mformat\u001b[0m\u001b[1;33m)\u001b[0m\u001b[1;33m\u001b[0m\u001b[1;33m\u001b[0m\u001b[0m\n\u001b[0m\u001b[0;32m    578\u001b[0m     \u001b[0mtzname\u001b[0m\u001b[1;33m,\u001b[0m \u001b[0mgmtoff\u001b[0m \u001b[1;33m=\u001b[0m \u001b[0mtt\u001b[0m\u001b[1;33m[\u001b[0m\u001b[1;33m-\u001b[0m\u001b[1;36m2\u001b[0m\u001b[1;33m:\u001b[0m\u001b[1;33m]\u001b[0m\u001b[1;33m\u001b[0m\u001b[1;33m\u001b[0m\u001b[0m\n\u001b[0;32m    579\u001b[0m     \u001b[0margs\u001b[0m \u001b[1;33m=\u001b[0m \u001b[0mtt\u001b[0m\u001b[1;33m[\u001b[0m\u001b[1;33m:\u001b[0m\u001b[1;36m6\u001b[0m\u001b[1;33m]\u001b[0m \u001b[1;33m+\u001b[0m \u001b[1;33m(\u001b[0m\u001b[0mfraction\u001b[0m\u001b[1;33m,\u001b[0m\u001b[1;33m)\u001b[0m\u001b[1;33m\u001b[0m\u001b[1;33m\u001b[0m\u001b[0m\n",
      "\u001b[1;32mc:\\users\\07\\anaconda3\\envs\\machinelearning\\lib\\_strptime.py\u001b[0m in \u001b[0;36m_strptime\u001b[1;34m(data_string, format)\u001b[0m\n\u001b[0;32m    357\u001b[0m     \u001b[1;32mif\u001b[0m \u001b[1;32mnot\u001b[0m \u001b[0mfound\u001b[0m\u001b[1;33m:\u001b[0m\u001b[1;33m\u001b[0m\u001b[1;33m\u001b[0m\u001b[0m\n\u001b[0;32m    358\u001b[0m         raise ValueError(\"time data %r does not match format %r\" %\n\u001b[1;32m--> 359\u001b[1;33m                          (data_string, format))\n\u001b[0m\u001b[0;32m    360\u001b[0m     \u001b[1;32mif\u001b[0m \u001b[0mlen\u001b[0m\u001b[1;33m(\u001b[0m\u001b[0mdata_string\u001b[0m\u001b[1;33m)\u001b[0m \u001b[1;33m!=\u001b[0m \u001b[0mfound\u001b[0m\u001b[1;33m.\u001b[0m\u001b[0mend\u001b[0m\u001b[1;33m(\u001b[0m\u001b[1;33m)\u001b[0m\u001b[1;33m:\u001b[0m\u001b[1;33m\u001b[0m\u001b[1;33m\u001b[0m\u001b[0m\n\u001b[0;32m    361\u001b[0m         raise ValueError(\"unconverted data remains: %s\" %\n",
      "\u001b[1;31mValueError\u001b[0m: time data '2020.09.26. ' does not match format '%Y %m $d'"
     ]
    }
   ],
   "source": [
    "from datetime import datetime\n",
    "for z in range(0,len(df['date'])):\n",
    "    df['date'][z] = datetime.strptime(df['date'][z], \"%Y %m $d\")\n",
    "print(df['date'])\n",
    "\n",
    "\n",
    "if '전' in df['date'][z]:\n",
    "    if '일' in df['date'][z]:\n",
    "         df['date'][z][0] #현재날짜 - n일\n",
    "            datetime.date(현재년도, 현재월, 현재일)\n",
    "            \n",
    "    if '시간' in df['date'][z]:\n",
    "         df['date'][z].currenttime.today\n"
   ]
  },
  {
   "cell_type": "code",
   "execution_count": null,
   "metadata": {},
   "outputs": [],
   "source": []
  },
  {
   "cell_type": "code",
   "execution_count": 13,
   "metadata": {
    "colab": {
     "base_uri": "https://localhost:8080/"
    },
    "id": "vNPUxpkAMhAs",
    "outputId": "32177e46-5b39-40c3-d3ab-6f7f62928676"
   },
   "outputs": [
    {
     "name": "stdout",
     "output_type": "stream",
     "text": [
      "맛집 0\n",
      "맛집 1\n",
      "맛집 2\n",
      "맛집 3\n",
      "맛집 4\n",
      "맛집 5\n",
      "맛집 6\n",
      "맛집 7\n",
      "맛집 8\n",
      "맛집 9\n",
      "맛집 10\n",
      "맛집 11\n",
      "맛집 12\n",
      "맛집 13\n",
      "맛집 14\n",
      "맛집 15\n",
      "맛집 16\n",
      "맛집 17\n",
      "맛집 18\n",
      "맛집 19\n",
      "맛집 20\n",
      "맛집 21\n",
      "맛집 22\n",
      "맛집 23\n",
      "맛집 24\n",
      "맛집 25\n",
      "맛집 26\n",
      "맛집 27\n",
      "맛집 28\n",
      "맛집 29\n",
      "맛집 30\n",
      "맛집 31\n",
      "맛집 32\n",
      "맛집 33\n",
      "맛집 34\n",
      "맛집 35\n",
      "맛집 36\n",
      "맛집 37\n",
      "맛집 38\n",
      "맛집 39\n",
      "맛집 40\n",
      "맛집 41\n",
      "맛집 42\n",
      "맛집 43\n",
      "맛집 44\n",
      "맛집 45\n",
      "맛집 46\n",
      "맛집 47\n",
      "맛집 48\n",
      "맛집 49\n",
      "맛집 50\n",
      "맛집 51\n",
      "맛집 52\n",
      "맛집 53\n",
      "맛집 54\n",
      "맛집 55\n",
      "맛집 56\n",
      "맛집 57\n",
      "맛집 58\n",
      "맛집 59\n",
      "맛집 60\n",
      "맛집 61\n",
      "맛집 62\n",
      "맛집 63\n",
      "맛집 64\n",
      "맛집 65\n",
      "맛집 66\n",
      "맛집 67\n",
      "맛집 68\n",
      "맛집 69\n",
      "맛집 70\n",
      "맛집 71\n",
      "맛집 72\n",
      "맛집 73\n",
      "맛집 74\n",
      "맛집 75\n",
      "맛집 76\n",
      "맛집 77\n",
      "맛집 78\n",
      "맛집 79\n",
      "맛집 80\n",
      "맛집 81\n",
      "맛집 82\n",
      "맛집 83\n",
      "맛집 84\n",
      "맛집 85\n",
      "맛집 86\n",
      "맛집 87\n",
      "맛집 88\n",
      "맛집 89\n",
      "맛집 90\n",
      "맛집 91\n",
      "맛집 92\n",
      "맛집 93\n",
      "맛집 94\n",
      "맛집 95\n",
      "맛집 96\n",
      "맛집 97\n",
      "맛집 98\n",
      "맛집 99\n",
      "맛집  키워드끝 \n"
     ]
    }
   ],
   "source": [
    "#카페 최근 한달 100페이지 크롤링\n",
    "\n",
    "first_keyword_list = [ '치즈볼']\n",
    "\n",
    "for a in first_keyword_list:\n",
    "    title_list=[]\n",
    "    date_list=[]\n",
    "    for b in range(0,100):\n",
    "        try:\n",
    "            url = 'https://search.naver.com/search.naver?where=article&ie=utf8 \\\n",
    "            &query={0}&prdtype=0&t=0&st=rel&date_option=3&date_from=20200101000000&date_to \\\n",
    "            =20201013235959&srchby=text&dup_remove=1&cafe_url=&without_cafe_url=&board=&sm= \\\n",
    "            tab_pge&nso=so:r,p:1m,a:all&start={1}'.format(a,b*10 +1)\n",
    "            r = requests.get(url)\n",
    "            html = r.content\n",
    "            soup = BeautifulSoup(html, \"html.parser\")\n",
    "            dates = soup.find_all(\"dd\", {'class':\"txt_inline\"}) #날짜\n",
    "            title_tags = soup.find_all(\"a\", {'class':\"sh_cafe_title\"})  #한페이지당 모든제목 가져옴\n",
    "            content_tags = soup.find_all(\"dd\", {'class':\"sh_cafe_passage\"})     #한페이지당 모든 짧은 설명 가져옴\n",
    "\n",
    "\n",
    "            for k in range(len(title_tags)):\n",
    "                date = dates[k].text #k번째 블로그날짜\n",
    "                title_tag = title_tags[k]       #k번째 블로그제목\n",
    "                title_tag = title_tag[\"title\"]  #k번쨰 블로그제목 중 text만\n",
    "                content_tag = content_tags[k].text  #k번째 블로그 짧은글 중 text만\n",
    "                \n",
    "                one_sentence = title_tag + ' ' + content_tag    #제목과 글을 더해서 한문장으로\n",
    "                date_list.append(date)\n",
    "                title_list.append(one_sentence)\n",
    "            print(a,b)\n",
    "        except:\n",
    "            print(a,b, '에러')\n",
    "\n",
    "    print(a, ' 키워드끝 ')\n",
    "    df = pd.DataFrame({'date':date_list, 'title':title_list})\n",
    "    df.to_csv('prj_sns_trend_crawling_naver_cafe_{}.csv'.format(a))\n",
    "\n"
   ]
  },
  {
   "cell_type": "code",
   "execution_count": null,
   "metadata": {
    "id": "BHpHQsy5NfZV"
   },
   "outputs": [],
   "source": []
  }
 ],
 "metadata": {
  "colab": {
   "collapsed_sections": [],
   "name": "prj_sns_trend_naver_crawling.ipynb",
   "provenance": []
  },
  "kernelspec": {
   "display_name": "Python 3",
   "language": "python",
   "name": "python3"
  },
  "language_info": {
   "codemirror_mode": {
    "name": "ipython",
    "version": 3
   },
   "file_extension": ".py",
   "mimetype": "text/x-python",
   "name": "python",
   "nbconvert_exporter": "python",
   "pygments_lexer": "ipython3",
   "version": "3.7.7"
  }
 },
 "nbformat": 4,
 "nbformat_minor": 1
}
